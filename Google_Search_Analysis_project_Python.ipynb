{
 "cells": [
  {
   "cell_type": "code",
   "execution_count": null,
   "id": "aa02cacb",
   "metadata": {},
   "outputs": [],
   "source": [
    "pip install pytrends matplotlib pandas seaborn plotly"
   ]
  },
  {
   "cell_type": "code",
   "execution_count": null,
   "id": "de099027",
   "metadata": {},
   "outputs": [],
   "source": [
    "import pandas as pd\n",
    "from pytrends.request import TrendReq\n",
    "import matplotlib.pyplot as plt\t\n",
    "import seaborn as sns\n",
    "import plotly.express as px\n",
    "from pytrends.request import TrendReq\n"
   ]
  },
  {
   "cell_type": "markdown",
   "id": "596e6c12",
   "metadata": {},
   "source": [
    "# Setup Pytrends library and keywords"
   ]
  },
  {
   "cell_type": "code",
   "execution_count": null,
   "id": "4957610f",
   "metadata": {},
   "outputs": [],
   "source": [
    "pydrends = TrendReq(hl='en-US', tz=360)\n",
    "keywords=\" DATA SCIENCE\""
   ]
  },
  {
   "cell_type": "markdown",
   "id": "23ede16f",
   "metadata": {},
   "source": [
    "# Data Request"
   ]
  },
  {
   "cell_type": "code",
   "execution_count": null,
   "id": "a43c0afd",
   "metadata": {},
   "outputs": [],
   "source": [
    "import time\n",
    "\n",
    "# Increase sleep time and add retry logic\n",
    "success = False\n",
    "attempts = 0\n",
    "while not success and attempts < 5:\n",
    "\ttry:\n",
    "\t\tpydrends.build_payload([keywords], cat=0, timeframe='today 12-m', geo='', gprop='')\n",
    "\t\tsuccess = True\n",
    "\texcept Exception as e:\n",
    "\t\tprint(f\"Attempt {attempts+1}: {e}. Retrying after 120 seconds...\")\n",
    "\t\ttime.sleep(120)\n",
    "\t\tattempts += 1\n",
    "if not success:\n",
    "\traise Exception(\"Failed to build payload after multiple attempts due to TooManyRequestsError.\")"
   ]
  },
  {
   "cell_type": "markdown",
   "id": "7db25d5e",
   "metadata": {},
   "source": [
    "# Country Wise Interest"
   ]
  },
  {
   "cell_type": "code",
   "execution_count": null,
   "id": "624da089",
   "metadata": {},
   "outputs": [],
   "source": [
    "region_data=pydrends.interest_by_region()\n",
    "region_data=region_data.sort_values(by=keywords, ascending=False).head(15)"
   ]
  },
  {
   "cell_type": "code",
   "execution_count": null,
   "id": "36d648a0",
   "metadata": {},
   "outputs": [],
   "source": [
    "region_data = pydrends.interest_by_region()\n",
    "region_data = region_data.sort_values(by=keywords, ascending=False).head(15)\n",
    "\n",
    "plt.figure(figsize=(10,6))\n",
    "sns.barplot(x=region_data[keywords], y=region_data.index, palette='Blues')\n",
    "plt.title(f\"Top Countries searching for '{keywords}' \")\n",
    "plt.xlabel('Interest Level')\n",
    "plt.ylabel('Countries')\n",
    "plt.show()"
   ]
  },
  {
   "cell_type": "markdown",
   "id": "6590d7b4",
   "metadata": {},
   "source": [
    "# World Map"
   ]
  },
  {
   "cell_type": "code",
   "execution_count": null,
   "id": "22c70a4d",
   "metadata": {},
   "outputs": [],
   "source": [
    "region_data = region_data.reset_index()\n",
    "region_data = region_data.rename(columns={'index': 'geoName'})\n",
    "fig = px.choropleth(\n",
    "\tregion_data,\n",
    "\tlocations='geoName',\n",
    "\tlocationmode='country names',\n",
    "\tcolor=keywords,\n",
    "\ttitle=f\"Search Interest for '{keywords}' by Country\",\n",
    "\tcolor_continuous_scale='Blues'\n",
    ")\n",
    "fig.show()"
   ]
  },
  {
   "cell_type": "markdown",
   "id": "86476661",
   "metadata": {},
   "source": [
    "# Time Wise Interest"
   ]
  },
  {
   "cell_type": "code",
   "execution_count": null,
   "id": "d4c29884",
   "metadata": {},
   "outputs": [],
   "source": [
    "import time\n",
    "\n",
    "# Retry logic for interest_over_time\n",
    "success = False\n",
    "attempts = 0\n",
    "while not success and attempts < 5:\n",
    "\ttry:\n",
    "\t\ttime_df = pydrends.interest_over_time()\n",
    "\t\tsuccess = True\n",
    "\texcept Exception as e:\n",
    "\t\tprint(f\"Attempt {attempts+1}: {e}. Retrying after 120 seconds...\")\n",
    "\t\ttime.sleep(120)\n",
    "\t\tattempts += 1\n",
    "if not success:\n",
    "\traise Exception(\"Failed to fetch time_df after multiple attempts due to ConnectionError.\")"
   ]
  },
  {
   "cell_type": "code",
   "execution_count": null,
   "id": "c5c6bef2",
   "metadata": {},
   "outputs": [],
   "source": [
    "\n",
    "if 'time_df' not in globals():\n",
    "\ttime_df = pydrends.interest_over_time()\n",
    "\n",
    "plt.Figure(figsize=(12,6))\n",
    "plt.plot(time_df.index, time_df[keywords], marker='o', color='purple')\n",
    "plt.title(f\"Time Wise Interest over '{keywords}'\")\n",
    "plt.xlabel(\"Date\")\n",
    "plt.ylabel(\"Interest\")\n",
    "plt.grid(True)\n",
    "plt.show()"
   ]
  },
  {
   "cell_type": "markdown",
   "id": "47a5c34f",
   "metadata": {},
   "source": [
    "# Multiple Keywords Comparing"
   ]
  },
  {
   "cell_type": "code",
   "execution_count": null,
   "id": "fab6b9be",
   "metadata": {},
   "outputs": [],
   "source": [
    "from pytrends.request import TrendReq\n",
    "\n",
    "kw_list = [\"cloud computing\", \"data science\", \"machine learning\"]\n",
    "\n",
    "# Ensure pydrends is defined\n",
    "if 'pydrends' not in globals():\n",
    "\tpydrends = TrendReq(hl='en-US', tz=360)\n",
    "\n",
    "import time\n",
    "\n",
    "# Add retry logic to handle TooManyRequestsError\n",
    "success = False\n",
    "attempts = 0\n",
    "while not success and attempts < 5:\n",
    "\ttry:\n",
    "\t\tpydrends.build_payload(kw_list, cat=0, timeframe='today 12-m', geo='', gprop='')\n",
    "\t\tsuccess = True\n",
    "\texcept Exception as e:\n",
    "\t\tprint(f\"Attempt {attempts+1}: {e}. Retrying after 120 seconds...\")\n",
    "\t\ttime.sleep(120)\n",
    "\t\tattempts += 1\n",
    "if not success:\n",
    "\traise Exception(\"Failed to build payload after multiple attempts due to TooManyRequestsError.\")"
   ]
  },
  {
   "cell_type": "code",
   "execution_count": null,
   "id": "d6762b65",
   "metadata": {},
   "outputs": [],
   "source": [
    "import matplotlib.pyplot as plt\n",
    "\n",
    "# Ensure kw_list is defined\n",
    "kw_list = [\"cloud computing\", \"data science\", \"machine learning\"]\n",
    "\n",
    "# Ensure pydrends is defined\n",
    "if 'pydrends' not in globals():\n",
    "\tfrom pytrends.request import TrendReq\n",
    "\tpydrends = TrendReq(hl='en-US', tz=360)\n",
    "\n",
    "# Build payload with kw_list before fetching interest_over_time\n",
    "pydrends.build_payload(kw_list, cat=0, timeframe='today 12-m', geo='', gprop='')\n",
    "compare_df = pydrends.interest_over_time()\n",
    "\n",
    "# Remove 'isPartial' column if present\n",
    "if 'isPartial' in compare_df.columns:\n",
    "\tcompare_df = compare_df.drop(columns=['isPartial'])\n",
    "\n",
    "# Check if all keywords are present in the DataFrame columns\n",
    "missing_keywords = [kw for kw in kw_list if kw not in compare_df.columns]\n",
    "if missing_keywords:\n",
    "\traise KeyError(f\"Missing keyword columns in DataFrame: {missing_keywords}\")\n",
    "\n",
    "plt.figure(figsize=(12,6))\n",
    "for kw in kw_list:\n",
    "\tplt.plot(compare_df.index, compare_df[kw], marker='o', label=kw)\n",
    "plt.title(\"Keywords Comparison Over Time\")\n",
    "plt.xlabel(\"Date\")\n",
    "plt.ylabel(\"Interest\")\n",
    "plt.legend()\n",
    "plt.grid(True)\n",
    "plt.tight_layout()\n",
    "plt.show()"
   ]
  }
 ],
 "metadata": {
  "language_info": {
   "name": "python"
  }
 },
 "nbformat": 4,
 "nbformat_minor": 5
}
